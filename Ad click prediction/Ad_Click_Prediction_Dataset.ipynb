{
  "nbformat": 4,
  "nbformat_minor": 0,
  "metadata": {
    "colab": {
      "provenance": []
    },
    "kernelspec": {
      "name": "python3",
      "display_name": "Python 3"
    },
    "language_info": {
      "name": "python"
    },
    "widgets": {
      "application/vnd.jupyter.widget-state+json": {
        "db995b0d34fe405fbfda633b58a70197": {
          "model_module": "@jupyter-widgets/controls",
          "model_name": "VBoxModel",
          "model_module_version": "1.5.0",
          "state": {
            "_dom_classes": [
              "widget-interact"
            ],
            "_model_module": "@jupyter-widgets/controls",
            "_model_module_version": "1.5.0",
            "_model_name": "VBoxModel",
            "_view_count": null,
            "_view_module": "@jupyter-widgets/controls",
            "_view_module_version": "1.5.0",
            "_view_name": "VBoxView",
            "box_style": "",
            "children": [
              "IPY_MODEL_ba7270c1ffbd40e382ec6407104fe591",
              "IPY_MODEL_8d75999c73df421fbab702c976f8bc97"
            ],
            "layout": "IPY_MODEL_c788c4504d3346cba30a4f26c67f7b6c"
          }
        },
        "ba7270c1ffbd40e382ec6407104fe591": {
          "model_module": "@jupyter-widgets/controls",
          "model_name": "ToggleButtonsModel",
          "model_module_version": "1.5.0",
          "state": {
            "_dom_classes": [],
            "_model_module": "@jupyter-widgets/controls",
            "_model_module_version": "1.5.0",
            "_model_name": "ToggleButtonsModel",
            "_options_labels": [
              "Pipeline Plot",
              "Hyperparameters",
              "AUC",
              "Confusion Matrix",
              "Threshold",
              "Precision Recall",
              "Prediction Error",
              "Class Report",
              "Feature Selection",
              "Learning Curve",
              "Manifold Learning",
              "Calibration Curve",
              "Validation Curve",
              "Dimensions",
              "Feature Importance",
              "Feature Importance (All)",
              "Decision Boundary",
              "Lift Chart",
              "Gain Chart",
              "Decision Tree",
              "KS Statistic Plot"
            ],
            "_view_count": null,
            "_view_module": "@jupyter-widgets/controls",
            "_view_module_version": "1.5.0",
            "_view_name": "ToggleButtonsView",
            "button_style": "",
            "description": "Plot Type:",
            "description_tooltip": null,
            "disabled": false,
            "icons": [
              ""
            ],
            "index": 0,
            "layout": "IPY_MODEL_3780e63ce02142acad0a283bd9e5a333",
            "style": "IPY_MODEL_c84eef9d3e5c43479428878f54ed8e0b",
            "tooltips": []
          }
        },
        "8d75999c73df421fbab702c976f8bc97": {
          "model_module": "@jupyter-widgets/output",
          "model_name": "OutputModel",
          "model_module_version": "1.0.0",
          "state": {
            "_dom_classes": [],
            "_model_module": "@jupyter-widgets/output",
            "_model_module_version": "1.0.0",
            "_model_name": "OutputModel",
            "_view_count": null,
            "_view_module": "@jupyter-widgets/output",
            "_view_module_version": "1.0.0",
            "_view_name": "OutputView",
            "layout": "IPY_MODEL_68692fb9145749f2a1178d7bfaad6f9a",
            "msg_id": "",
            "outputs": [
              {
                "output_type": "display_data",
                "data": {
                  "text/plain": "<Figure size 2200x600 with 1 Axes>",
                  "image/png": "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\n"
                },
                "metadata": {}
              }
            ]
          }
        },
        "c788c4504d3346cba30a4f26c67f7b6c": {
          "model_module": "@jupyter-widgets/base",
          "model_name": "LayoutModel",
          "model_module_version": "1.2.0",
          "state": {
            "_model_module": "@jupyter-widgets/base",
            "_model_module_version": "1.2.0",
            "_model_name": "LayoutModel",
            "_view_count": null,
            "_view_module": "@jupyter-widgets/base",
            "_view_module_version": "1.2.0",
            "_view_name": "LayoutView",
            "align_content": null,
            "align_items": null,
            "align_self": null,
            "border": null,
            "bottom": null,
            "display": null,
            "flex": null,
            "flex_flow": null,
            "grid_area": null,
            "grid_auto_columns": null,
            "grid_auto_flow": null,
            "grid_auto_rows": null,
            "grid_column": null,
            "grid_gap": null,
            "grid_row": null,
            "grid_template_areas": null,
            "grid_template_columns": null,
            "grid_template_rows": null,
            "height": null,
            "justify_content": null,
            "justify_items": null,
            "left": null,
            "margin": null,
            "max_height": null,
            "max_width": null,
            "min_height": null,
            "min_width": null,
            "object_fit": null,
            "object_position": null,
            "order": null,
            "overflow": null,
            "overflow_x": null,
            "overflow_y": null,
            "padding": null,
            "right": null,
            "top": null,
            "visibility": null,
            "width": null
          }
        },
        "3780e63ce02142acad0a283bd9e5a333": {
          "model_module": "@jupyter-widgets/base",
          "model_name": "LayoutModel",
          "model_module_version": "1.2.0",
          "state": {
            "_model_module": "@jupyter-widgets/base",
            "_model_module_version": "1.2.0",
            "_model_name": "LayoutModel",
            "_view_count": null,
            "_view_module": "@jupyter-widgets/base",
            "_view_module_version": "1.2.0",
            "_view_name": "LayoutView",
            "align_content": null,
            "align_items": null,
            "align_self": null,
            "border": null,
            "bottom": null,
            "display": null,
            "flex": null,
            "flex_flow": null,
            "grid_area": null,
            "grid_auto_columns": null,
            "grid_auto_flow": null,
            "grid_auto_rows": null,
            "grid_column": null,
            "grid_gap": null,
            "grid_row": null,
            "grid_template_areas": null,
            "grid_template_columns": null,
            "grid_template_rows": null,
            "height": null,
            "justify_content": null,
            "justify_items": null,
            "left": null,
            "margin": null,
            "max_height": null,
            "max_width": null,
            "min_height": null,
            "min_width": null,
            "object_fit": null,
            "object_position": null,
            "order": null,
            "overflow": null,
            "overflow_x": null,
            "overflow_y": null,
            "padding": null,
            "right": null,
            "top": null,
            "visibility": null,
            "width": null
          }
        },
        "c84eef9d3e5c43479428878f54ed8e0b": {
          "model_module": "@jupyter-widgets/controls",
          "model_name": "ToggleButtonsStyleModel",
          "model_module_version": "1.5.0",
          "state": {
            "_model_module": "@jupyter-widgets/controls",
            "_model_module_version": "1.5.0",
            "_model_name": "ToggleButtonsStyleModel",
            "_view_count": null,
            "_view_module": "@jupyter-widgets/base",
            "_view_module_version": "1.2.0",
            "_view_name": "StyleView",
            "button_width": "",
            "description_width": "",
            "font_weight": ""
          }
        },
        "68692fb9145749f2a1178d7bfaad6f9a": {
          "model_module": "@jupyter-widgets/base",
          "model_name": "LayoutModel",
          "model_module_version": "1.2.0",
          "state": {
            "_model_module": "@jupyter-widgets/base",
            "_model_module_version": "1.2.0",
            "_model_name": "LayoutModel",
            "_view_count": null,
            "_view_module": "@jupyter-widgets/base",
            "_view_module_version": "1.2.0",
            "_view_name": "LayoutView",
            "align_content": null,
            "align_items": null,
            "align_self": null,
            "border": null,
            "bottom": null,
            "display": null,
            "flex": null,
            "flex_flow": null,
            "grid_area": null,
            "grid_auto_columns": null,
            "grid_auto_flow": null,
            "grid_auto_rows": null,
            "grid_column": null,
            "grid_gap": null,
            "grid_row": null,
            "grid_template_areas": null,
            "grid_template_columns": null,
            "grid_template_rows": null,
            "height": null,
            "justify_content": null,
            "justify_items": null,
            "left": null,
            "margin": null,
            "max_height": null,
            "max_width": null,
            "min_height": null,
            "min_width": null,
            "object_fit": null,
            "object_position": null,
            "order": null,
            "overflow": null,
            "overflow_x": null,
            "overflow_y": null,
            "padding": null,
            "right": null,
            "top": null,
            "visibility": null,
            "width": null
          }
        }
      }
    }
  },
  "cells": [
    {
      "cell_type": "markdown",
      "source": [
        "Dataset link: https://www.kaggle.com/datasets/marius2303/ad-click-prediction-dataset"
      ],
      "metadata": {
        "id": "BUv4E07GG3nc"
      }
    },
    {
      "cell_type": "code",
      "execution_count": 1,
      "metadata": {
        "colab": {
          "base_uri": "https://localhost:8080/",
          "height": 0
        },
        "id": "dlBY0U6SwfVI",
        "outputId": "7e45794d-3229-4230-9ecd-80b9afac3551"
      },
      "outputs": [
        {
          "output_type": "stream",
          "name": "stdout",
          "text": [
            "/usr/local/lib/python3.10/dist-packages/gdown/__main__.py:132: FutureWarning: Option `--id` was deprecated in version 4.3.1 and will be removed in 5.0. You don't need to pass it anymore to use a file ID.\n",
            "  warnings.warn(\n",
            "Downloading...\n",
            "From: https://drive.google.com/uc?id=1SHoeE6p0RQADbTPHXI7G7be26XeFayco\n",
            "To: /content/ad_click_dataset.csv\n",
            "100% 465k/465k [00:00<00:00, 44.1MB/s]\n"
          ]
        }
      ],
      "source": [
        "!gdown --id 1SHoeE6p0RQADbTPHXI7G7be26XeFayco"
      ]
    },
    {
      "cell_type": "code",
      "source": [
        "import pandas as pd\n",
        "df = pd.read_csv('/content/ad_click_dataset.csv')"
      ],
      "metadata": {
        "id": "EtDdBc73xJBt"
      },
      "execution_count": 2,
      "outputs": []
    },
    {
      "cell_type": "code",
      "source": [
        "df.head()"
      ],
      "metadata": {
        "colab": {
          "base_uri": "https://localhost:8080/",
          "height": 206
        },
        "id": "24d4QaprxMZB",
        "outputId": "630ad57a-9dc3-4531-dc83-fac149dd18fb"
      },
      "execution_count": 3,
      "outputs": [
        {
          "output_type": "execute_result",
          "data": {
            "text/plain": [
              "     id full_name   age      gender device_type ad_position browsing_history  \\\n",
              "0   670   User670  22.0         NaN     Desktop         Top         Shopping   \n",
              "1  3044  User3044   NaN        Male     Desktop         Top              NaN   \n",
              "2  5912  User5912  41.0  Non-Binary         NaN        Side        Education   \n",
              "3  5418  User5418  34.0        Male         NaN         NaN    Entertainment   \n",
              "4  9452  User9452  39.0  Non-Binary         NaN         NaN     Social Media   \n",
              "\n",
              "  time_of_day  click  \n",
              "0   Afternoon      1  \n",
              "1         NaN      1  \n",
              "2       Night      1  \n",
              "3     Evening      1  \n",
              "4     Morning      0  "
            ],
            "text/html": [
              "\n",
              "  <div id=\"df-a122a223-788a-4813-83a7-49e204ad5df4\" class=\"colab-df-container\">\n",
              "    <div>\n",
              "<style scoped>\n",
              "    .dataframe tbody tr th:only-of-type {\n",
              "        vertical-align: middle;\n",
              "    }\n",
              "\n",
              "    .dataframe tbody tr th {\n",
              "        vertical-align: top;\n",
              "    }\n",
              "\n",
              "    .dataframe thead th {\n",
              "        text-align: right;\n",
              "    }\n",
              "</style>\n",
              "<table border=\"1\" class=\"dataframe\">\n",
              "  <thead>\n",
              "    <tr style=\"text-align: right;\">\n",
              "      <th></th>\n",
              "      <th>id</th>\n",
              "      <th>full_name</th>\n",
              "      <th>age</th>\n",
              "      <th>gender</th>\n",
              "      <th>device_type</th>\n",
              "      <th>ad_position</th>\n",
              "      <th>browsing_history</th>\n",
              "      <th>time_of_day</th>\n",
              "      <th>click</th>\n",
              "    </tr>\n",
              "  </thead>\n",
              "  <tbody>\n",
              "    <tr>\n",
              "      <th>0</th>\n",
              "      <td>670</td>\n",
              "      <td>User670</td>\n",
              "      <td>22.0</td>\n",
              "      <td>NaN</td>\n",
              "      <td>Desktop</td>\n",
              "      <td>Top</td>\n",
              "      <td>Shopping</td>\n",
              "      <td>Afternoon</td>\n",
              "      <td>1</td>\n",
              "    </tr>\n",
              "    <tr>\n",
              "      <th>1</th>\n",
              "      <td>3044</td>\n",
              "      <td>User3044</td>\n",
              "      <td>NaN</td>\n",
              "      <td>Male</td>\n",
              "      <td>Desktop</td>\n",
              "      <td>Top</td>\n",
              "      <td>NaN</td>\n",
              "      <td>NaN</td>\n",
              "      <td>1</td>\n",
              "    </tr>\n",
              "    <tr>\n",
              "      <th>2</th>\n",
              "      <td>5912</td>\n",
              "      <td>User5912</td>\n",
              "      <td>41.0</td>\n",
              "      <td>Non-Binary</td>\n",
              "      <td>NaN</td>\n",
              "      <td>Side</td>\n",
              "      <td>Education</td>\n",
              "      <td>Night</td>\n",
              "      <td>1</td>\n",
              "    </tr>\n",
              "    <tr>\n",
              "      <th>3</th>\n",
              "      <td>5418</td>\n",
              "      <td>User5418</td>\n",
              "      <td>34.0</td>\n",
              "      <td>Male</td>\n",
              "      <td>NaN</td>\n",
              "      <td>NaN</td>\n",
              "      <td>Entertainment</td>\n",
              "      <td>Evening</td>\n",
              "      <td>1</td>\n",
              "    </tr>\n",
              "    <tr>\n",
              "      <th>4</th>\n",
              "      <td>9452</td>\n",
              "      <td>User9452</td>\n",
              "      <td>39.0</td>\n",
              "      <td>Non-Binary</td>\n",
              "      <td>NaN</td>\n",
              "      <td>NaN</td>\n",
              "      <td>Social Media</td>\n",
              "      <td>Morning</td>\n",
              "      <td>0</td>\n",
              "    </tr>\n",
              "  </tbody>\n",
              "</table>\n",
              "</div>\n",
              "    <div class=\"colab-df-buttons\">\n",
              "\n",
              "  <div class=\"colab-df-container\">\n",
              "    <button class=\"colab-df-convert\" onclick=\"convertToInteractive('df-a122a223-788a-4813-83a7-49e204ad5df4')\"\n",
              "            title=\"Convert this dataframe to an interactive table.\"\n",
              "            style=\"display:none;\">\n",
              "\n",
              "  <svg xmlns=\"http://www.w3.org/2000/svg\" height=\"24px\" viewBox=\"0 -960 960 960\">\n",
              "    <path d=\"M120-120v-720h720v720H120Zm60-500h600v-160H180v160Zm220 220h160v-160H400v160Zm0 220h160v-160H400v160ZM180-400h160v-160H180v160Zm440 0h160v-160H620v160ZM180-180h160v-160H180v160Zm440 0h160v-160H620v160Z\"/>\n",
              "  </svg>\n",
              "    </button>\n",
              "\n",
              "  <style>\n",
              "    .colab-df-container {\n",
              "      display:flex;\n",
              "      gap: 12px;\n",
              "    }\n",
              "\n",
              "    .colab-df-convert {\n",
              "      background-color: #E8F0FE;\n",
              "      border: none;\n",
              "      border-radius: 50%;\n",
              "      cursor: pointer;\n",
              "      display: none;\n",
              "      fill: #1967D2;\n",
              "      height: 32px;\n",
              "      padding: 0 0 0 0;\n",
              "      width: 32px;\n",
              "    }\n",
              "\n",
              "    .colab-df-convert:hover {\n",
              "      background-color: #E2EBFA;\n",
              "      box-shadow: 0px 1px 2px rgba(60, 64, 67, 0.3), 0px 1px 3px 1px rgba(60, 64, 67, 0.15);\n",
              "      fill: #174EA6;\n",
              "    }\n",
              "\n",
              "    .colab-df-buttons div {\n",
              "      margin-bottom: 4px;\n",
              "    }\n",
              "\n",
              "    [theme=dark] .colab-df-convert {\n",
              "      background-color: #3B4455;\n",
              "      fill: #D2E3FC;\n",
              "    }\n",
              "\n",
              "    [theme=dark] .colab-df-convert:hover {\n",
              "      background-color: #434B5C;\n",
              "      box-shadow: 0px 1px 3px 1px rgba(0, 0, 0, 0.15);\n",
              "      filter: drop-shadow(0px 1px 2px rgba(0, 0, 0, 0.3));\n",
              "      fill: #FFFFFF;\n",
              "    }\n",
              "  </style>\n",
              "\n",
              "    <script>\n",
              "      const buttonEl =\n",
              "        document.querySelector('#df-a122a223-788a-4813-83a7-49e204ad5df4 button.colab-df-convert');\n",
              "      buttonEl.style.display =\n",
              "        google.colab.kernel.accessAllowed ? 'block' : 'none';\n",
              "\n",
              "      async function convertToInteractive(key) {\n",
              "        const element = document.querySelector('#df-a122a223-788a-4813-83a7-49e204ad5df4');\n",
              "        const dataTable =\n",
              "          await google.colab.kernel.invokeFunction('convertToInteractive',\n",
              "                                                    [key], {});\n",
              "        if (!dataTable) return;\n",
              "\n",
              "        const docLinkHtml = 'Like what you see? Visit the ' +\n",
              "          '<a target=\"_blank\" href=https://colab.research.google.com/notebooks/data_table.ipynb>data table notebook</a>'\n",
              "          + ' to learn more about interactive tables.';\n",
              "        element.innerHTML = '';\n",
              "        dataTable['output_type'] = 'display_data';\n",
              "        await google.colab.output.renderOutput(dataTable, element);\n",
              "        const docLink = document.createElement('div');\n",
              "        docLink.innerHTML = docLinkHtml;\n",
              "        element.appendChild(docLink);\n",
              "      }\n",
              "    </script>\n",
              "  </div>\n",
              "\n",
              "\n",
              "<div id=\"df-3063f27c-dbb3-4139-84d0-311abf4fd796\">\n",
              "  <button class=\"colab-df-quickchart\" onclick=\"quickchart('df-3063f27c-dbb3-4139-84d0-311abf4fd796')\"\n",
              "            title=\"Suggest charts\"\n",
              "            style=\"display:none;\">\n",
              "\n",
              "<svg xmlns=\"http://www.w3.org/2000/svg\" height=\"24px\"viewBox=\"0 0 24 24\"\n",
              "     width=\"24px\">\n",
              "    <g>\n",
              "        <path d=\"M19 3H5c-1.1 0-2 .9-2 2v14c0 1.1.9 2 2 2h14c1.1 0 2-.9 2-2V5c0-1.1-.9-2-2-2zM9 17H7v-7h2v7zm4 0h-2V7h2v10zm4 0h-2v-4h2v4z\"/>\n",
              "    </g>\n",
              "</svg>\n",
              "  </button>\n",
              "\n",
              "<style>\n",
              "  .colab-df-quickchart {\n",
              "      --bg-color: #E8F0FE;\n",
              "      --fill-color: #1967D2;\n",
              "      --hover-bg-color: #E2EBFA;\n",
              "      --hover-fill-color: #174EA6;\n",
              "      --disabled-fill-color: #AAA;\n",
              "      --disabled-bg-color: #DDD;\n",
              "  }\n",
              "\n",
              "  [theme=dark] .colab-df-quickchart {\n",
              "      --bg-color: #3B4455;\n",
              "      --fill-color: #D2E3FC;\n",
              "      --hover-bg-color: #434B5C;\n",
              "      --hover-fill-color: #FFFFFF;\n",
              "      --disabled-bg-color: #3B4455;\n",
              "      --disabled-fill-color: #666;\n",
              "  }\n",
              "\n",
              "  .colab-df-quickchart {\n",
              "    background-color: var(--bg-color);\n",
              "    border: none;\n",
              "    border-radius: 50%;\n",
              "    cursor: pointer;\n",
              "    display: none;\n",
              "    fill: var(--fill-color);\n",
              "    height: 32px;\n",
              "    padding: 0;\n",
              "    width: 32px;\n",
              "  }\n",
              "\n",
              "  .colab-df-quickchart:hover {\n",
              "    background-color: var(--hover-bg-color);\n",
              "    box-shadow: 0 1px 2px rgba(60, 64, 67, 0.3), 0 1px 3px 1px rgba(60, 64, 67, 0.15);\n",
              "    fill: var(--button-hover-fill-color);\n",
              "  }\n",
              "\n",
              "  .colab-df-quickchart-complete:disabled,\n",
              "  .colab-df-quickchart-complete:disabled:hover {\n",
              "    background-color: var(--disabled-bg-color);\n",
              "    fill: var(--disabled-fill-color);\n",
              "    box-shadow: none;\n",
              "  }\n",
              "\n",
              "  .colab-df-spinner {\n",
              "    border: 2px solid var(--fill-color);\n",
              "    border-color: transparent;\n",
              "    border-bottom-color: var(--fill-color);\n",
              "    animation:\n",
              "      spin 1s steps(1) infinite;\n",
              "  }\n",
              "\n",
              "  @keyframes spin {\n",
              "    0% {\n",
              "      border-color: transparent;\n",
              "      border-bottom-color: var(--fill-color);\n",
              "      border-left-color: var(--fill-color);\n",
              "    }\n",
              "    20% {\n",
              "      border-color: transparent;\n",
              "      border-left-color: var(--fill-color);\n",
              "      border-top-color: var(--fill-color);\n",
              "    }\n",
              "    30% {\n",
              "      border-color: transparent;\n",
              "      border-left-color: var(--fill-color);\n",
              "      border-top-color: var(--fill-color);\n",
              "      border-right-color: var(--fill-color);\n",
              "    }\n",
              "    40% {\n",
              "      border-color: transparent;\n",
              "      border-right-color: var(--fill-color);\n",
              "      border-top-color: var(--fill-color);\n",
              "    }\n",
              "    60% {\n",
              "      border-color: transparent;\n",
              "      border-right-color: var(--fill-color);\n",
              "    }\n",
              "    80% {\n",
              "      border-color: transparent;\n",
              "      border-right-color: var(--fill-color);\n",
              "      border-bottom-color: var(--fill-color);\n",
              "    }\n",
              "    90% {\n",
              "      border-color: transparent;\n",
              "      border-bottom-color: var(--fill-color);\n",
              "    }\n",
              "  }\n",
              "</style>\n",
              "\n",
              "  <script>\n",
              "    async function quickchart(key) {\n",
              "      const quickchartButtonEl =\n",
              "        document.querySelector('#' + key + ' button');\n",
              "      quickchartButtonEl.disabled = true;  // To prevent multiple clicks.\n",
              "      quickchartButtonEl.classList.add('colab-df-spinner');\n",
              "      try {\n",
              "        const charts = await google.colab.kernel.invokeFunction(\n",
              "            'suggestCharts', [key], {});\n",
              "      } catch (error) {\n",
              "        console.error('Error during call to suggestCharts:', error);\n",
              "      }\n",
              "      quickchartButtonEl.classList.remove('colab-df-spinner');\n",
              "      quickchartButtonEl.classList.add('colab-df-quickchart-complete');\n",
              "    }\n",
              "    (() => {\n",
              "      let quickchartButtonEl =\n",
              "        document.querySelector('#df-3063f27c-dbb3-4139-84d0-311abf4fd796 button');\n",
              "      quickchartButtonEl.style.display =\n",
              "        google.colab.kernel.accessAllowed ? 'block' : 'none';\n",
              "    })();\n",
              "  </script>\n",
              "</div>\n",
              "\n",
              "    </div>\n",
              "  </div>\n"
            ],
            "application/vnd.google.colaboratory.intrinsic+json": {
              "type": "dataframe",
              "variable_name": "df",
              "summary": "{\n  \"name\": \"df\",\n  \"rows\": 10000,\n  \"fields\": [\n    {\n      \"column\": \"id\",\n      \"properties\": {\n        \"dtype\": \"number\",\n        \"std\": 2861,\n        \"min\": 5,\n        \"max\": 10000,\n        \"num_unique_values\": 4000,\n        \"samples\": [\n          1079,\n          5592,\n          9892\n        ],\n        \"semantic_type\": \"\",\n        \"description\": \"\"\n      }\n    },\n    {\n      \"column\": \"full_name\",\n      \"properties\": {\n        \"dtype\": \"category\",\n        \"num_unique_values\": 4000,\n        \"samples\": [\n          \"User1079\",\n          \"User5592\",\n          \"User9892\"\n        ],\n        \"semantic_type\": \"\",\n        \"description\": \"\"\n      }\n    },\n    {\n      \"column\": \"age\",\n      \"properties\": {\n        \"dtype\": \"number\",\n        \"std\": 13.126420271966095,\n        \"min\": 18.0,\n        \"max\": 64.0,\n        \"num_unique_values\": 47,\n        \"samples\": [\n          27.0,\n          35.0,\n          44.0\n        ],\n        \"semantic_type\": \"\",\n        \"description\": \"\"\n      }\n    },\n    {\n      \"column\": \"gender\",\n      \"properties\": {\n        \"dtype\": \"category\",\n        \"num_unique_values\": 3,\n        \"samples\": [\n          \"Male\",\n          \"Non-Binary\",\n          \"Female\"\n        ],\n        \"semantic_type\": \"\",\n        \"description\": \"\"\n      }\n    },\n    {\n      \"column\": \"device_type\",\n      \"properties\": {\n        \"dtype\": \"category\",\n        \"num_unique_values\": 3,\n        \"samples\": [\n          \"Desktop\",\n          \"Mobile\",\n          \"Tablet\"\n        ],\n        \"semantic_type\": \"\",\n        \"description\": \"\"\n      }\n    },\n    {\n      \"column\": \"ad_position\",\n      \"properties\": {\n        \"dtype\": \"category\",\n        \"num_unique_values\": 3,\n        \"samples\": [\n          \"Top\",\n          \"Side\",\n          \"Bottom\"\n        ],\n        \"semantic_type\": \"\",\n        \"description\": \"\"\n      }\n    },\n    {\n      \"column\": \"browsing_history\",\n      \"properties\": {\n        \"dtype\": \"category\",\n        \"num_unique_values\": 5,\n        \"samples\": [\n          \"Education\",\n          \"News\",\n          \"Entertainment\"\n        ],\n        \"semantic_type\": \"\",\n        \"description\": \"\"\n      }\n    },\n    {\n      \"column\": \"time_of_day\",\n      \"properties\": {\n        \"dtype\": \"category\",\n        \"num_unique_values\": 4,\n        \"samples\": [\n          \"Night\",\n          \"Morning\",\n          \"Afternoon\"\n        ],\n        \"semantic_type\": \"\",\n        \"description\": \"\"\n      }\n    },\n    {\n      \"column\": \"click\",\n      \"properties\": {\n        \"dtype\": \"number\",\n        \"std\": 0,\n        \"min\": 0,\n        \"max\": 1,\n        \"num_unique_values\": 2,\n        \"samples\": [\n          0,\n          1\n        ],\n        \"semantic_type\": \"\",\n        \"description\": \"\"\n      }\n    }\n  ]\n}"
            }
          },
          "metadata": {},
          "execution_count": 3
        }
      ]
    },
    {
      "cell_type": "code",
      "source": [
        "df.info()"
      ],
      "metadata": {
        "colab": {
          "base_uri": "https://localhost:8080/",
          "height": 0
        },
        "id": "z--HKIdIw9OB",
        "outputId": "d1896943-2e1c-4969-c83e-3ca370e4551b"
      },
      "execution_count": 4,
      "outputs": [
        {
          "output_type": "stream",
          "name": "stdout",
          "text": [
            "<class 'pandas.core.frame.DataFrame'>\n",
            "RangeIndex: 10000 entries, 0 to 9999\n",
            "Data columns (total 9 columns):\n",
            " #   Column            Non-Null Count  Dtype  \n",
            "---  ------            --------------  -----  \n",
            " 0   id                10000 non-null  int64  \n",
            " 1   full_name         10000 non-null  object \n",
            " 2   age               5234 non-null   float64\n",
            " 3   gender            5307 non-null   object \n",
            " 4   device_type       8000 non-null   object \n",
            " 5   ad_position       8000 non-null   object \n",
            " 6   browsing_history  5218 non-null   object \n",
            " 7   time_of_day       8000 non-null   object \n",
            " 8   click             10000 non-null  int64  \n",
            "dtypes: float64(1), int64(2), object(6)\n",
            "memory usage: 703.2+ KB\n"
          ]
        }
      ]
    },
    {
      "cell_type": "markdown",
      "source": [
        "Turn 1"
      ],
      "metadata": {
        "id": "fD4-9ZW-x2jz"
      }
    },
    {
      "cell_type": "markdown",
      "source": [
        "# Here's how you can preprocess your dataset and use PyCaret for an AutoML approach to predict ad clicks:"
      ],
      "metadata": {
        "id": "Uq4ydbT6x0nl"
      }
    },
    {
      "cell_type": "markdown",
      "source": [
        "Step 1: Install PyCaret If you haven't installed PyCaret, you can do so using pip"
      ],
      "metadata": {
        "id": "eMpsivlkx60V"
      }
    },
    {
      "cell_type": "code",
      "source": [
        "pip install pycaret"
      ],
      "metadata": {
        "colab": {
          "base_uri": "https://localhost:8080/",
          "height": 0
        },
        "id": "ME-5XtCTxmab",
        "outputId": "776a81bd-0f5f-43fa-80a4-d6338420bf3b"
      },
      "execution_count": 5,
      "outputs": [
        {
          "output_type": "stream",
          "name": "stdout",
          "text": [
            "Collecting pycaret\n",
            "  Downloading pycaret-3.3.2-py3-none-any.whl.metadata (17 kB)\n",
            "Requirement already satisfied: ipython>=5.5.0 in /usr/local/lib/python3.10/dist-packages (from pycaret) (7.34.0)\n",
            "Requirement already satisfied: ipywidgets>=7.6.5 in /usr/local/lib/python3.10/dist-packages (from pycaret) (7.7.1)\n",
            "Requirement already satisfied: tqdm>=4.62.0 in /usr/local/lib/python3.10/dist-packages (from pycaret) (4.66.5)\n",
            "Requirement already satisfied: numpy<1.27,>=1.21 in /usr/local/lib/python3.10/dist-packages (from pycaret) (1.26.4)\n",
            "Requirement already satisfied: pandas<2.2.0 in /usr/local/lib/python3.10/dist-packages (from pycaret) (2.1.4)\n",
            "Requirement already satisfied: jinja2>=3 in /usr/local/lib/python3.10/dist-packages (from pycaret) (3.1.4)\n",
            "Collecting scipy<=1.11.4,>=1.6.1 (from pycaret)\n",
            "  Downloading scipy-1.11.4-cp310-cp310-manylinux_2_17_x86_64.manylinux2014_x86_64.whl.metadata (60 kB)\n",
            "\u001b[2K     \u001b[90m━━━━━━━━━━━━━━━━━━━━━━━━━━━━━━━━━━━━━━━━\u001b[0m \u001b[32m60.4/60.4 kB\u001b[0m \u001b[31m966.3 kB/s\u001b[0m eta \u001b[36m0:00:00\u001b[0m\n",
            "\u001b[?25hCollecting joblib<1.4,>=1.2.0 (from pycaret)\n",
            "  Downloading joblib-1.3.2-py3-none-any.whl.metadata (5.4 kB)\n",
            "Collecting scikit-learn>1.4.0 (from pycaret)\n",
            "  Downloading scikit_learn-1.5.1-cp310-cp310-manylinux_2_17_x86_64.manylinux2014_x86_64.whl.metadata (12 kB)\n",
            "Collecting pyod>=1.1.3 (from pycaret)\n",
            "  Downloading pyod-2.0.2.tar.gz (165 kB)\n",
            "\u001b[2K     \u001b[90m━━━━━━━━━━━━━━━━━━━━━━━━━━━━━━━━━━━━━━━━\u001b[0m \u001b[32m165.8/165.8 kB\u001b[0m \u001b[31m2.8 MB/s\u001b[0m eta \u001b[36m0:00:00\u001b[0m\n",
            "\u001b[?25h  Preparing metadata (setup.py) ... \u001b[?25l\u001b[?25hdone\n",
            "Requirement already satisfied: imbalanced-learn>=0.12.0 in /usr/local/lib/python3.10/dist-packages (from pycaret) (0.12.3)\n",
            "Collecting category-encoders>=2.4.0 (from pycaret)\n",
            "  Downloading category_encoders-2.6.3-py2.py3-none-any.whl.metadata (8.0 kB)\n",
            "Requirement already satisfied: lightgbm>=3.0.0 in /usr/local/lib/python3.10/dist-packages (from pycaret) (4.4.0)\n",
            "Requirement already satisfied: numba>=0.55.0 in /usr/local/lib/python3.10/dist-packages (from pycaret) (0.60.0)\n",
            "Requirement already satisfied: requests>=2.27.1 in /usr/local/lib/python3.10/dist-packages (from pycaret) (2.32.3)\n",
            "Requirement already satisfied: psutil>=5.9.0 in /usr/local/lib/python3.10/dist-packages (from pycaret) (5.9.5)\n",
            "Requirement already satisfied: markupsafe>=2.0.1 in /usr/local/lib/python3.10/dist-packages (from pycaret) (2.1.5)\n",
            "Requirement already satisfied: importlib-metadata>=4.12.0 in /usr/local/lib/python3.10/dist-packages (from pycaret) (8.4.0)\n",
            "Requirement already satisfied: nbformat>=4.2.0 in /usr/local/lib/python3.10/dist-packages (from pycaret) (5.10.4)\n",
            "Requirement already satisfied: cloudpickle in /usr/local/lib/python3.10/dist-packages (from pycaret) (2.2.1)\n",
            "Collecting deprecation>=2.1.0 (from pycaret)\n",
            "  Downloading deprecation-2.1.0-py2.py3-none-any.whl.metadata (4.6 kB)\n",
            "Collecting xxhash (from pycaret)\n",
            "  Downloading xxhash-3.5.0-cp310-cp310-manylinux_2_17_x86_64.manylinux2014_x86_64.whl.metadata (12 kB)\n",
            "Requirement already satisfied: matplotlib<3.8.0 in /usr/local/lib/python3.10/dist-packages (from pycaret) (3.7.1)\n",
            "Collecting scikit-plot>=0.3.7 (from pycaret)\n",
            "  Downloading scikit_plot-0.3.7-py3-none-any.whl.metadata (7.1 kB)\n",
            "Requirement already satisfied: yellowbrick>=1.4 in /usr/local/lib/python3.10/dist-packages (from pycaret) (1.5)\n",
            "Requirement already satisfied: plotly>=5.14.0 in /usr/local/lib/python3.10/dist-packages (from pycaret) (5.15.0)\n",
            "Collecting kaleido>=0.2.1 (from pycaret)\n",
            "  Downloading kaleido-0.2.1-py2.py3-none-manylinux1_x86_64.whl.metadata (15 kB)\n",
            "Collecting schemdraw==0.15 (from pycaret)\n",
            "  Downloading schemdraw-0.15-py3-none-any.whl.metadata (2.2 kB)\n",
            "Collecting plotly-resampler>=0.8.3.1 (from pycaret)\n",
            "  Downloading plotly_resampler-0.10.0-py3-none-any.whl.metadata (13 kB)\n",
            "Requirement already satisfied: statsmodels>=0.12.1 in /usr/local/lib/python3.10/dist-packages (from pycaret) (0.14.2)\n",
            "Collecting sktime==0.26.0 (from pycaret)\n",
            "  Downloading sktime-0.26.0-py3-none-any.whl.metadata (29 kB)\n",
            "Collecting tbats>=1.1.3 (from pycaret)\n",
            "  Downloading tbats-1.1.3-py3-none-any.whl.metadata (3.8 kB)\n",
            "Collecting pmdarima>=2.0.4 (from pycaret)\n",
            "  Downloading pmdarima-2.0.4-cp310-cp310-manylinux_2_17_x86_64.manylinux2014_x86_64.manylinux_2_28_x86_64.whl.metadata (7.8 kB)\n",
            "Collecting wurlitzer (from pycaret)\n",
            "  Downloading wurlitzer-3.1.1-py3-none-any.whl.metadata (2.5 kB)\n",
            "Requirement already satisfied: packaging in /usr/local/lib/python3.10/dist-packages (from sktime==0.26.0->pycaret) (24.1)\n",
            "Collecting scikit-base<0.8.0 (from sktime==0.26.0->pycaret)\n",
            "  Downloading scikit_base-0.7.8-py3-none-any.whl.metadata (8.8 kB)\n",
            "Collecting scikit-learn>1.4.0 (from pycaret)\n",
            "  Downloading scikit_learn-1.4.2-cp310-cp310-manylinux_2_17_x86_64.manylinux2014_x86_64.whl.metadata (11 kB)\n",
            "Requirement already satisfied: patsy>=0.5.1 in /usr/local/lib/python3.10/dist-packages (from category-encoders>=2.4.0->pycaret) (0.5.6)\n",
            "Requirement already satisfied: threadpoolctl>=2.0.0 in /usr/local/lib/python3.10/dist-packages (from imbalanced-learn>=0.12.0->pycaret) (3.5.0)\n",
            "Requirement already satisfied: zipp>=0.5 in /usr/local/lib/python3.10/dist-packages (from importlib-metadata>=4.12.0->pycaret) (3.20.1)\n",
            "Requirement already satisfied: setuptools>=18.5 in /usr/local/lib/python3.10/dist-packages (from ipython>=5.5.0->pycaret) (71.0.4)\n",
            "Collecting jedi>=0.16 (from ipython>=5.5.0->pycaret)\n",
            "  Using cached jedi-0.19.1-py2.py3-none-any.whl.metadata (22 kB)\n",
            "Requirement already satisfied: decorator in /usr/local/lib/python3.10/dist-packages (from ipython>=5.5.0->pycaret) (4.4.2)\n",
            "Requirement already satisfied: pickleshare in /usr/local/lib/python3.10/dist-packages (from ipython>=5.5.0->pycaret) (0.7.5)\n",
            "Requirement already satisfied: traitlets>=4.2 in /usr/local/lib/python3.10/dist-packages (from ipython>=5.5.0->pycaret) (5.7.1)\n",
            "Requirement already satisfied: prompt-toolkit!=3.0.0,!=3.0.1,<3.1.0,>=2.0.0 in /usr/local/lib/python3.10/dist-packages (from ipython>=5.5.0->pycaret) (3.0.47)\n",
            "Requirement already satisfied: pygments in /usr/local/lib/python3.10/dist-packages (from ipython>=5.5.0->pycaret) (2.16.1)\n",
            "Requirement already satisfied: backcall in /usr/local/lib/python3.10/dist-packages (from ipython>=5.5.0->pycaret) (0.2.0)\n",
            "Requirement already satisfied: matplotlib-inline in /usr/local/lib/python3.10/dist-packages (from ipython>=5.5.0->pycaret) (0.1.7)\n",
            "Requirement already satisfied: pexpect>4.3 in /usr/local/lib/python3.10/dist-packages (from ipython>=5.5.0->pycaret) (4.9.0)\n",
            "Requirement already satisfied: ipykernel>=4.5.1 in /usr/local/lib/python3.10/dist-packages (from ipywidgets>=7.6.5->pycaret) (5.5.6)\n",
            "Requirement already satisfied: ipython-genutils~=0.2.0 in /usr/local/lib/python3.10/dist-packages (from ipywidgets>=7.6.5->pycaret) (0.2.0)\n",
            "Requirement already satisfied: widgetsnbextension~=3.6.0 in /usr/local/lib/python3.10/dist-packages (from ipywidgets>=7.6.5->pycaret) (3.6.8)\n",
            "Requirement already satisfied: jupyterlab-widgets>=1.0.0 in /usr/local/lib/python3.10/dist-packages (from ipywidgets>=7.6.5->pycaret) (3.0.13)\n",
            "Requirement already satisfied: contourpy>=1.0.1 in /usr/local/lib/python3.10/dist-packages (from matplotlib<3.8.0->pycaret) (1.3.0)\n",
            "Requirement already satisfied: cycler>=0.10 in /usr/local/lib/python3.10/dist-packages (from matplotlib<3.8.0->pycaret) (0.12.1)\n",
            "Requirement already satisfied: fonttools>=4.22.0 in /usr/local/lib/python3.10/dist-packages (from matplotlib<3.8.0->pycaret) (4.53.1)\n",
            "Requirement already satisfied: kiwisolver>=1.0.1 in /usr/local/lib/python3.10/dist-packages (from matplotlib<3.8.0->pycaret) (1.4.5)\n",
            "Requirement already satisfied: pillow>=6.2.0 in /usr/local/lib/python3.10/dist-packages (from matplotlib<3.8.0->pycaret) (9.4.0)\n",
            "Requirement already satisfied: pyparsing>=2.3.1 in /usr/local/lib/python3.10/dist-packages (from matplotlib<3.8.0->pycaret) (3.1.4)\n",
            "Requirement already satisfied: python-dateutil>=2.7 in /usr/local/lib/python3.10/dist-packages (from matplotlib<3.8.0->pycaret) (2.8.2)\n",
            "Requirement already satisfied: fastjsonschema>=2.15 in /usr/local/lib/python3.10/dist-packages (from nbformat>=4.2.0->pycaret) (2.20.0)\n",
            "Requirement already satisfied: jsonschema>=2.6 in /usr/local/lib/python3.10/dist-packages (from nbformat>=4.2.0->pycaret) (4.23.0)\n",
            "Requirement already satisfied: jupyter-core!=5.0.*,>=4.12 in /usr/local/lib/python3.10/dist-packages (from nbformat>=4.2.0->pycaret) (5.7.2)\n",
            "Requirement already satisfied: llvmlite<0.44,>=0.43.0dev0 in /usr/local/lib/python3.10/dist-packages (from numba>=0.55.0->pycaret) (0.43.0)\n",
            "Requirement already satisfied: pytz>=2020.1 in /usr/local/lib/python3.10/dist-packages (from pandas<2.2.0->pycaret) (2024.1)\n",
            "Requirement already satisfied: tzdata>=2022.1 in /usr/local/lib/python3.10/dist-packages (from pandas<2.2.0->pycaret) (2024.1)\n",
            "Requirement already satisfied: tenacity>=6.2.0 in /usr/local/lib/python3.10/dist-packages (from plotly>=5.14.0->pycaret) (9.0.0)\n",
            "Collecting dash>=2.9.0 (from plotly-resampler>=0.8.3.1->pycaret)\n",
            "  Downloading dash-2.18.0-py3-none-any.whl.metadata (10 kB)\n",
            "Collecting orjson<4.0.0,>=3.8.0 (from plotly-resampler>=0.8.3.1->pycaret)\n",
            "  Downloading orjson-3.10.7-cp310-cp310-manylinux_2_17_x86_64.manylinux2014_x86_64.whl.metadata (50 kB)\n",
            "\u001b[2K     \u001b[90m━━━━━━━━━━━━━━━━━━━━━━━━━━━━━━━━━━━━━━━━\u001b[0m \u001b[32m50.4/50.4 kB\u001b[0m \u001b[31m3.5 MB/s\u001b[0m eta \u001b[36m0:00:00\u001b[0m\n",
            "\u001b[?25hCollecting tsdownsample>=0.1.3 (from plotly-resampler>=0.8.3.1->pycaret)\n",
            "  Downloading tsdownsample-0.1.3-cp310-cp310-manylinux_2_17_x86_64.manylinux2014_x86_64.whl.metadata (7.9 kB)\n",
            "Requirement already satisfied: Cython!=0.29.18,!=0.29.31,>=0.29 in /usr/local/lib/python3.10/dist-packages (from pmdarima>=2.0.4->pycaret) (3.0.11)\n",
            "Requirement already satisfied: urllib3 in /usr/local/lib/python3.10/dist-packages (from pmdarima>=2.0.4->pycaret) (2.0.7)\n",
            "Requirement already satisfied: charset-normalizer<4,>=2 in /usr/local/lib/python3.10/dist-packages (from requests>=2.27.1->pycaret) (3.3.2)\n",
            "Requirement already satisfied: idna<4,>=2.5 in /usr/local/lib/python3.10/dist-packages (from requests>=2.27.1->pycaret) (3.8)\n",
            "Requirement already satisfied: certifi>=2017.4.17 in /usr/local/lib/python3.10/dist-packages (from requests>=2.27.1->pycaret) (2024.8.30)\n",
            "Requirement already satisfied: Flask<3.1,>=1.0.4 in /usr/local/lib/python3.10/dist-packages (from dash>=2.9.0->plotly-resampler>=0.8.3.1->pycaret) (2.2.5)\n",
            "Requirement already satisfied: Werkzeug<3.1 in /usr/local/lib/python3.10/dist-packages (from dash>=2.9.0->plotly-resampler>=0.8.3.1->pycaret) (3.0.4)\n",
            "Collecting dash-html-components==2.0.0 (from dash>=2.9.0->plotly-resampler>=0.8.3.1->pycaret)\n",
            "  Downloading dash_html_components-2.0.0-py3-none-any.whl.metadata (3.8 kB)\n",
            "Collecting dash-core-components==2.0.0 (from dash>=2.9.0->plotly-resampler>=0.8.3.1->pycaret)\n",
            "  Downloading dash_core_components-2.0.0-py3-none-any.whl.metadata (2.9 kB)\n",
            "Collecting dash-table==5.0.0 (from dash>=2.9.0->plotly-resampler>=0.8.3.1->pycaret)\n",
            "  Downloading dash_table-5.0.0-py3-none-any.whl.metadata (2.4 kB)\n",
            "Requirement already satisfied: typing-extensions>=4.1.1 in /usr/local/lib/python3.10/dist-packages (from dash>=2.9.0->plotly-resampler>=0.8.3.1->pycaret) (4.12.2)\n",
            "Collecting retrying (from dash>=2.9.0->plotly-resampler>=0.8.3.1->pycaret)\n",
            "  Downloading retrying-1.3.4-py3-none-any.whl.metadata (6.9 kB)\n",
            "Requirement already satisfied: nest-asyncio in /usr/local/lib/python3.10/dist-packages (from dash>=2.9.0->plotly-resampler>=0.8.3.1->pycaret) (1.6.0)\n",
            "Requirement already satisfied: jupyter-client in /usr/local/lib/python3.10/dist-packages (from ipykernel>=4.5.1->ipywidgets>=7.6.5->pycaret) (6.1.12)\n",
            "Requirement already satisfied: tornado>=4.2 in /usr/local/lib/python3.10/dist-packages (from ipykernel>=4.5.1->ipywidgets>=7.6.5->pycaret) (6.3.3)\n",
            "Requirement already satisfied: parso<0.9.0,>=0.8.3 in /usr/local/lib/python3.10/dist-packages (from jedi>=0.16->ipython>=5.5.0->pycaret) (0.8.4)\n",
            "Requirement already satisfied: attrs>=22.2.0 in /usr/local/lib/python3.10/dist-packages (from jsonschema>=2.6->nbformat>=4.2.0->pycaret) (24.2.0)\n",
            "Requirement already satisfied: jsonschema-specifications>=2023.03.6 in /usr/local/lib/python3.10/dist-packages (from jsonschema>=2.6->nbformat>=4.2.0->pycaret) (2023.12.1)\n",
            "Requirement already satisfied: referencing>=0.28.4 in /usr/local/lib/python3.10/dist-packages (from jsonschema>=2.6->nbformat>=4.2.0->pycaret) (0.35.1)\n",
            "Requirement already satisfied: rpds-py>=0.7.1 in /usr/local/lib/python3.10/dist-packages (from jsonschema>=2.6->nbformat>=4.2.0->pycaret) (0.20.0)\n",
            "Requirement already satisfied: platformdirs>=2.5 in /usr/local/lib/python3.10/dist-packages (from jupyter-core!=5.0.*,>=4.12->nbformat>=4.2.0->pycaret) (4.2.2)\n",
            "Requirement already satisfied: six in /usr/local/lib/python3.10/dist-packages (from patsy>=0.5.1->category-encoders>=2.4.0->pycaret) (1.16.0)\n",
            "Requirement already satisfied: ptyprocess>=0.5 in /usr/local/lib/python3.10/dist-packages (from pexpect>4.3->ipython>=5.5.0->pycaret) (0.7.0)\n",
            "Requirement already satisfied: wcwidth in /usr/local/lib/python3.10/dist-packages (from prompt-toolkit!=3.0.0,!=3.0.1,<3.1.0,>=2.0.0->ipython>=5.5.0->pycaret) (0.2.13)\n",
            "Requirement already satisfied: notebook>=4.4.1 in /usr/local/lib/python3.10/dist-packages (from widgetsnbextension~=3.6.0->ipywidgets>=7.6.5->pycaret) (6.5.5)\n",
            "Requirement already satisfied: itsdangerous>=2.0 in /usr/local/lib/python3.10/dist-packages (from Flask<3.1,>=1.0.4->dash>=2.9.0->plotly-resampler>=0.8.3.1->pycaret) (2.2.0)\n",
            "Requirement already satisfied: click>=8.0 in /usr/local/lib/python3.10/dist-packages (from Flask<3.1,>=1.0.4->dash>=2.9.0->plotly-resampler>=0.8.3.1->pycaret) (8.1.7)\n",
            "Requirement already satisfied: pyzmq<25,>=17 in /usr/local/lib/python3.10/dist-packages (from notebook>=4.4.1->widgetsnbextension~=3.6.0->ipywidgets>=7.6.5->pycaret) (24.0.1)\n",
            "Requirement already satisfied: argon2-cffi in /usr/local/lib/python3.10/dist-packages (from notebook>=4.4.1->widgetsnbextension~=3.6.0->ipywidgets>=7.6.5->pycaret) (23.1.0)\n",
            "Requirement already satisfied: nbconvert>=5 in /usr/local/lib/python3.10/dist-packages (from notebook>=4.4.1->widgetsnbextension~=3.6.0->ipywidgets>=7.6.5->pycaret) (6.5.4)\n",
            "Requirement already satisfied: Send2Trash>=1.8.0 in /usr/local/lib/python3.10/dist-packages (from notebook>=4.4.1->widgetsnbextension~=3.6.0->ipywidgets>=7.6.5->pycaret) (1.8.3)\n",
            "Requirement already satisfied: terminado>=0.8.3 in /usr/local/lib/python3.10/dist-packages (from notebook>=4.4.1->widgetsnbextension~=3.6.0->ipywidgets>=7.6.5->pycaret) (0.18.1)\n",
            "Requirement already satisfied: prometheus-client in /usr/local/lib/python3.10/dist-packages (from notebook>=4.4.1->widgetsnbextension~=3.6.0->ipywidgets>=7.6.5->pycaret) (0.20.0)\n",
            "Requirement already satisfied: nbclassic>=0.4.7 in /usr/local/lib/python3.10/dist-packages (from notebook>=4.4.1->widgetsnbextension~=3.6.0->ipywidgets>=7.6.5->pycaret) (1.1.0)\n",
            "Requirement already satisfied: notebook-shim>=0.2.3 in /usr/local/lib/python3.10/dist-packages (from nbclassic>=0.4.7->notebook>=4.4.1->widgetsnbextension~=3.6.0->ipywidgets>=7.6.5->pycaret) (0.2.4)\n",
            "Requirement already satisfied: lxml in /usr/local/lib/python3.10/dist-packages (from nbconvert>=5->notebook>=4.4.1->widgetsnbextension~=3.6.0->ipywidgets>=7.6.5->pycaret) (4.9.4)\n",
            "Requirement already satisfied: beautifulsoup4 in /usr/local/lib/python3.10/dist-packages (from nbconvert>=5->notebook>=4.4.1->widgetsnbextension~=3.6.0->ipywidgets>=7.6.5->pycaret) (4.12.3)\n",
            "Requirement already satisfied: bleach in /usr/local/lib/python3.10/dist-packages (from nbconvert>=5->notebook>=4.4.1->widgetsnbextension~=3.6.0->ipywidgets>=7.6.5->pycaret) (6.1.0)\n",
            "Requirement already satisfied: defusedxml in /usr/local/lib/python3.10/dist-packages (from nbconvert>=5->notebook>=4.4.1->widgetsnbextension~=3.6.0->ipywidgets>=7.6.5->pycaret) (0.7.1)\n",
            "Requirement already satisfied: entrypoints>=0.2.2 in /usr/local/lib/python3.10/dist-packages (from nbconvert>=5->notebook>=4.4.1->widgetsnbextension~=3.6.0->ipywidgets>=7.6.5->pycaret) (0.4)\n",
            "Requirement already satisfied: jupyterlab-pygments in /usr/local/lib/python3.10/dist-packages (from nbconvert>=5->notebook>=4.4.1->widgetsnbextension~=3.6.0->ipywidgets>=7.6.5->pycaret) (0.3.0)\n",
            "Requirement already satisfied: mistune<2,>=0.8.1 in /usr/local/lib/python3.10/dist-packages (from nbconvert>=5->notebook>=4.4.1->widgetsnbextension~=3.6.0->ipywidgets>=7.6.5->pycaret) (0.8.4)\n",
            "Requirement already satisfied: nbclient>=0.5.0 in /usr/local/lib/python3.10/dist-packages (from nbconvert>=5->notebook>=4.4.1->widgetsnbextension~=3.6.0->ipywidgets>=7.6.5->pycaret) (0.10.0)\n",
            "Requirement already satisfied: pandocfilters>=1.4.1 in /usr/local/lib/python3.10/dist-packages (from nbconvert>=5->notebook>=4.4.1->widgetsnbextension~=3.6.0->ipywidgets>=7.6.5->pycaret) (1.5.1)\n",
            "Requirement already satisfied: tinycss2 in /usr/local/lib/python3.10/dist-packages (from nbconvert>=5->notebook>=4.4.1->widgetsnbextension~=3.6.0->ipywidgets>=7.6.5->pycaret) (1.3.0)\n",
            "Requirement already satisfied: argon2-cffi-bindings in /usr/local/lib/python3.10/dist-packages (from argon2-cffi->notebook>=4.4.1->widgetsnbextension~=3.6.0->ipywidgets>=7.6.5->pycaret) (21.2.0)\n",
            "Requirement already satisfied: jupyter-server<3,>=1.8 in /usr/local/lib/python3.10/dist-packages (from notebook-shim>=0.2.3->nbclassic>=0.4.7->notebook>=4.4.1->widgetsnbextension~=3.6.0->ipywidgets>=7.6.5->pycaret) (1.24.0)\n",
            "Requirement already satisfied: cffi>=1.0.1 in /usr/local/lib/python3.10/dist-packages (from argon2-cffi-bindings->argon2-cffi->notebook>=4.4.1->widgetsnbextension~=3.6.0->ipywidgets>=7.6.5->pycaret) (1.17.0)\n",
            "Requirement already satisfied: soupsieve>1.2 in /usr/local/lib/python3.10/dist-packages (from beautifulsoup4->nbconvert>=5->notebook>=4.4.1->widgetsnbextension~=3.6.0->ipywidgets>=7.6.5->pycaret) (2.6)\n",
            "Requirement already satisfied: webencodings in /usr/local/lib/python3.10/dist-packages (from bleach->nbconvert>=5->notebook>=4.4.1->widgetsnbextension~=3.6.0->ipywidgets>=7.6.5->pycaret) (0.5.1)\n",
            "Requirement already satisfied: pycparser in /usr/local/lib/python3.10/dist-packages (from cffi>=1.0.1->argon2-cffi-bindings->argon2-cffi->notebook>=4.4.1->widgetsnbextension~=3.6.0->ipywidgets>=7.6.5->pycaret) (2.22)\n",
            "Requirement already satisfied: anyio<4,>=3.1.0 in /usr/local/lib/python3.10/dist-packages (from jupyter-server<3,>=1.8->notebook-shim>=0.2.3->nbclassic>=0.4.7->notebook>=4.4.1->widgetsnbextension~=3.6.0->ipywidgets>=7.6.5->pycaret) (3.7.1)\n",
            "Requirement already satisfied: websocket-client in /usr/local/lib/python3.10/dist-packages (from jupyter-server<3,>=1.8->notebook-shim>=0.2.3->nbclassic>=0.4.7->notebook>=4.4.1->widgetsnbextension~=3.6.0->ipywidgets>=7.6.5->pycaret) (1.8.0)\n",
            "Requirement already satisfied: sniffio>=1.1 in /usr/local/lib/python3.10/dist-packages (from anyio<4,>=3.1.0->jupyter-server<3,>=1.8->notebook-shim>=0.2.3->nbclassic>=0.4.7->notebook>=4.4.1->widgetsnbextension~=3.6.0->ipywidgets>=7.6.5->pycaret) (1.3.1)\n",
            "Requirement already satisfied: exceptiongroup in /usr/local/lib/python3.10/dist-packages (from anyio<4,>=3.1.0->jupyter-server<3,>=1.8->notebook-shim>=0.2.3->nbclassic>=0.4.7->notebook>=4.4.1->widgetsnbextension~=3.6.0->ipywidgets>=7.6.5->pycaret) (1.2.2)\n",
            "Downloading pycaret-3.3.2-py3-none-any.whl (486 kB)\n",
            "\u001b[2K   \u001b[90m━━━━━━━━━━━━━━━━━━━━━━━━━━━━━━━━━━━━━━━━\u001b[0m \u001b[32m486.1/486.1 kB\u001b[0m \u001b[31m7.8 MB/s\u001b[0m eta \u001b[36m0:00:00\u001b[0m\n",
            "\u001b[?25hDownloading schemdraw-0.15-py3-none-any.whl (106 kB)\n",
            "\u001b[2K   \u001b[90m━━━━━━━━━━━━━━━━━━━━━━━━━━━━━━━━━━━━━━━━\u001b[0m \u001b[32m106.8/106.8 kB\u001b[0m \u001b[31m8.4 MB/s\u001b[0m eta \u001b[36m0:00:00\u001b[0m\n",
            "\u001b[?25hDownloading sktime-0.26.0-py3-none-any.whl (21.8 MB)\n",
            "\u001b[2K   \u001b[90m━━━━━━━━━━━━━━━━━━━━━━━━━━━━━━━━━━━━━━━━\u001b[0m \u001b[32m21.8/21.8 MB\u001b[0m \u001b[31m58.9 MB/s\u001b[0m eta \u001b[36m0:00:00\u001b[0m\n",
            "\u001b[?25hDownloading category_encoders-2.6.3-py2.py3-none-any.whl (81 kB)\n",
            "\u001b[2K   \u001b[90m━━━━━━━━━━━━━━━━━━━━━━━━━━━━━━━━━━━━━━━━\u001b[0m \u001b[32m81.9/81.9 kB\u001b[0m \u001b[31m6.0 MB/s\u001b[0m eta \u001b[36m0:00:00\u001b[0m\n",
            "\u001b[?25hDownloading deprecation-2.1.0-py2.py3-none-any.whl (11 kB)\n",
            "Downloading joblib-1.3.2-py3-none-any.whl (302 kB)\n",
            "\u001b[2K   \u001b[90m━━━━━━━━━━━━━━━━━━━━━━━━━━━━━━━━━━━━━━━━\u001b[0m \u001b[32m302.2/302.2 kB\u001b[0m \u001b[31m21.3 MB/s\u001b[0m eta \u001b[36m0:00:00\u001b[0m\n",
            "\u001b[?25hDownloading kaleido-0.2.1-py2.py3-none-manylinux1_x86_64.whl (79.9 MB)\n",
            "\u001b[2K   \u001b[90m━━━━━━━━━━━━━━━━━━━━━━━━━━━━━━━━━━━━━━━━\u001b[0m \u001b[32m79.9/79.9 MB\u001b[0m \u001b[31m8.9 MB/s\u001b[0m eta \u001b[36m0:00:00\u001b[0m\n",
            "\u001b[?25hDownloading plotly_resampler-0.10.0-py3-none-any.whl (80 kB)\n",
            "\u001b[2K   \u001b[90m━━━━━━━━━━━━━━━━━━━━━━━━━━━━━━━━━━━━━━━━\u001b[0m \u001b[32m80.7/80.7 kB\u001b[0m \u001b[31m6.8 MB/s\u001b[0m eta \u001b[36m0:00:00\u001b[0m\n",
            "\u001b[?25hDownloading pmdarima-2.0.4-cp310-cp310-manylinux_2_17_x86_64.manylinux2014_x86_64.manylinux_2_28_x86_64.whl (2.1 MB)\n",
            "\u001b[2K   \u001b[90m━━━━━━━━━━━━━━━━━━━━━━━━━━━━━━━━━━━━━━━━\u001b[0m \u001b[32m2.1/2.1 MB\u001b[0m \u001b[31m57.6 MB/s\u001b[0m eta \u001b[36m0:00:00\u001b[0m\n",
            "\u001b[?25hDownloading scikit_learn-1.4.2-cp310-cp310-manylinux_2_17_x86_64.manylinux2014_x86_64.whl (12.1 MB)\n",
            "\u001b[2K   \u001b[90m━━━━━━━━━━━━━━━━━━━━━━━━━━━━━━━━━━━━━━━━\u001b[0m \u001b[32m12.1/12.1 MB\u001b[0m \u001b[31m56.4 MB/s\u001b[0m eta \u001b[36m0:00:00\u001b[0m\n",
            "\u001b[?25hDownloading scikit_plot-0.3.7-py3-none-any.whl (33 kB)\n",
            "Downloading scipy-1.11.4-cp310-cp310-manylinux_2_17_x86_64.manylinux2014_x86_64.whl (36.4 MB)\n",
            "\u001b[2K   \u001b[90m━━━━━━━━━━━━━━━━━━━━━━━━━━━━━━━━━━━━━━━━\u001b[0m \u001b[32m36.4/36.4 MB\u001b[0m \u001b[31m19.1 MB/s\u001b[0m eta \u001b[36m0:00:00\u001b[0m\n",
            "\u001b[?25hDownloading tbats-1.1.3-py3-none-any.whl (44 kB)\n",
            "\u001b[2K   \u001b[90m━━━━━━━━━━━━━━━━━━━━━━━━━━━━━━━━━━━━━━━━\u001b[0m \u001b[32m44.0/44.0 kB\u001b[0m \u001b[31m2.9 MB/s\u001b[0m eta \u001b[36m0:00:00\u001b[0m\n",
            "\u001b[?25hDownloading wurlitzer-3.1.1-py3-none-any.whl (8.6 kB)\n",
            "Downloading xxhash-3.5.0-cp310-cp310-manylinux_2_17_x86_64.manylinux2014_x86_64.whl (194 kB)\n",
            "\u001b[2K   \u001b[90m━━━━━━━━━━━━━━━━━━━━━━━━━━━━━━━━━━━━━━━━\u001b[0m \u001b[32m194.1/194.1 kB\u001b[0m \u001b[31m13.6 MB/s\u001b[0m eta \u001b[36m0:00:00\u001b[0m\n",
            "\u001b[?25hDownloading dash-2.18.0-py3-none-any.whl (7.5 MB)\n",
            "\u001b[2K   \u001b[90m━━━━━━━━━━━━━━━━━━━━━━━━━━━━━━━━━━━━━━━━\u001b[0m \u001b[32m7.5/7.5 MB\u001b[0m \u001b[31m67.8 MB/s\u001b[0m eta \u001b[36m0:00:00\u001b[0m\n",
            "\u001b[?25hDownloading dash_core_components-2.0.0-py3-none-any.whl (3.8 kB)\n",
            "Downloading dash_html_components-2.0.0-py3-none-any.whl (4.1 kB)\n",
            "Downloading dash_table-5.0.0-py3-none-any.whl (3.9 kB)\n",
            "Using cached jedi-0.19.1-py2.py3-none-any.whl (1.6 MB)\n",
            "Downloading orjson-3.10.7-cp310-cp310-manylinux_2_17_x86_64.manylinux2014_x86_64.whl (141 kB)\n",
            "\u001b[2K   \u001b[90m━━━━━━━━━━━━━━━━━━━━━━━━━━━━━━━━━━━━━━━━\u001b[0m \u001b[32m141.9/141.9 kB\u001b[0m \u001b[31m10.3 MB/s\u001b[0m eta \u001b[36m0:00:00\u001b[0m\n",
            "\u001b[?25hDownloading scikit_base-0.7.8-py3-none-any.whl (130 kB)\n",
            "\u001b[2K   \u001b[90m━━━━━━━━━━━━━━━━━━━━━━━━━━━━━━━━━━━━━━━━\u001b[0m \u001b[32m130.1/130.1 kB\u001b[0m \u001b[31m9.8 MB/s\u001b[0m eta \u001b[36m0:00:00\u001b[0m\n",
            "\u001b[?25hDownloading tsdownsample-0.1.3-cp310-cp310-manylinux_2_17_x86_64.manylinux2014_x86_64.whl (2.1 MB)\n",
            "\u001b[2K   \u001b[90m━━━━━━━━━━━━━━━━━━━━━━━━━━━━━━━━━━━━━━━━\u001b[0m \u001b[32m2.1/2.1 MB\u001b[0m \u001b[31m61.4 MB/s\u001b[0m eta \u001b[36m0:00:00\u001b[0m\n",
            "\u001b[?25hDownloading retrying-1.3.4-py3-none-any.whl (11 kB)\n",
            "Building wheels for collected packages: pyod\n",
            "  Building wheel for pyod (setup.py) ... \u001b[?25l\u001b[?25hdone\n",
            "  Created wheel for pyod: filename=pyod-2.0.2-py3-none-any.whl size=198469 sha256=3de22f14c0ca83cc0c2896d0377121e3b8d22ab93bbe98766f49da8b0040955c\n",
            "  Stored in directory: /root/.cache/pip/wheels/77/c2/20/34d1f15b41b701ba69f42a32304825810d680754d509f91391\n",
            "Successfully built pyod\n",
            "Installing collected packages: kaleido, dash-table, dash-html-components, dash-core-components, xxhash, wurlitzer, tsdownsample, scipy, scikit-base, schemdraw, retrying, orjson, joblib, jedi, deprecation, scikit-learn, sktime, scikit-plot, pyod, dash, pmdarima, plotly-resampler, category-encoders, tbats, pycaret\n",
            "  Attempting uninstall: scipy\n",
            "    Found existing installation: scipy 1.13.1\n",
            "    Uninstalling scipy-1.13.1:\n",
            "      Successfully uninstalled scipy-1.13.1\n",
            "  Attempting uninstall: joblib\n",
            "    Found existing installation: joblib 1.4.2\n",
            "    Uninstalling joblib-1.4.2:\n",
            "      Successfully uninstalled joblib-1.4.2\n",
            "  Attempting uninstall: scikit-learn\n",
            "    Found existing installation: scikit-learn 1.3.2\n",
            "    Uninstalling scikit-learn-1.3.2:\n",
            "      Successfully uninstalled scikit-learn-1.3.2\n",
            "Successfully installed category-encoders-2.6.3 dash-2.18.0 dash-core-components-2.0.0 dash-html-components-2.0.0 dash-table-5.0.0 deprecation-2.1.0 jedi-0.19.1 joblib-1.3.2 kaleido-0.2.1 orjson-3.10.7 plotly-resampler-0.10.0 pmdarima-2.0.4 pycaret-3.3.2 pyod-2.0.2 retrying-1.3.4 schemdraw-0.15 scikit-base-0.7.8 scikit-learn-1.4.2 scikit-plot-0.3.7 scipy-1.11.4 sktime-0.26.0 tbats-1.1.3 tsdownsample-0.1.3 wurlitzer-3.1.1 xxhash-3.5.0\n"
          ]
        }
      ]
    },
    {
      "cell_type": "markdown",
      "source": [
        "Step 2: Load and Preprocess the Data"
      ],
      "metadata": {
        "id": "xcTjv61rzQ4N"
      }
    },
    {
      "cell_type": "code",
      "source": [
        "import pandas as pd\n",
        "import numpy as np\n",
        "from pycaret.classification import *\n",
        "\n",
        "# Load the dataset\n",
        "df = pd.read_csv('/content/ad_click_dataset.csv')\n",
        "\n",
        "# Preprocessing\n",
        "# Drop unnecessary columns\n",
        "df = df.drop(columns=['id', 'full_name'])\n",
        "\n",
        "# Handle missing values\n",
        "# For categorical variables, we'll use 'Unknown' as a placeholder\n",
        "categorical_features = ['gender', 'device_type', 'ad_position', 'browsing_history', 'time_of_day']\n",
        "for feature in categorical_features:\n",
        "    df[feature] = df[feature].fillna('Unknown')\n",
        "\n",
        "# For numerical variables, we'll use median\n",
        "df['age'] = df['age'].fillna(df['age'].median())\n",
        "\n",
        "# Encode categorical variables\n",
        "# PyCaret will handle encoding, but for manual approach:\n",
        "from sklearn.preprocessing import LabelEncoder\n",
        "le = LabelEncoder()\n",
        "for column in categorical_features:\n",
        "    df[column] = le.fit_transform(df[column])\n",
        "\n",
        "# Normalize numerical features if needed (PyCaret will handle this, but for manual approach):\n",
        "from sklearn.preprocessing import StandardScaler\n",
        "scaler = StandardScaler()\n",
        "df['age'] = scaler.fit_transform(df[['age']])\n",
        "\n",
        "# Setup PyCaret environment\n",
        "clf_setup = setup(data=df, target='click', session_id=123,\n",
        "                  normalize=True,\n",
        "                  html=False, # Use html=False to avoid interactive prompts\n",
        "                  categorical_features=categorical_features)"
      ],
      "metadata": {
        "colab": {
          "base_uri": "https://localhost:8080/",
          "height": 0
        },
        "id": "2DKTuKt6xO01",
        "outputId": "4892110c-3359-414d-e30b-94410a911b67"
      },
      "execution_count": 6,
      "outputs": [
        {
          "output_type": "stream",
          "name": "stdout",
          "text": [
            "                    Description             Value\n",
            "0                    Session id               123\n",
            "1                        Target             click\n",
            "2                   Target type            Binary\n",
            "3           Original data shape        (10000, 7)\n",
            "4        Transformed data shape       (10000, 25)\n",
            "5   Transformed train set shape        (7000, 25)\n",
            "6    Transformed test set shape        (3000, 25)\n",
            "7              Numeric features                 1\n",
            "8          Categorical features                 5\n",
            "9                    Preprocess              True\n",
            "10              Imputation type            simple\n",
            "11           Numeric imputation              mean\n",
            "12       Categorical imputation              mode\n",
            "13     Maximum one-hot encoding                25\n",
            "14              Encoding method              None\n",
            "15                    Normalize              True\n",
            "16             Normalize method            zscore\n",
            "17               Fold Generator   StratifiedKFold\n",
            "18                  Fold Number                10\n",
            "19                     CPU Jobs                -1\n",
            "20                      Use GPU             False\n",
            "21               Log Experiment             False\n",
            "22              Experiment Name  clf-default-name\n",
            "23                          USI              6ba8\n"
          ]
        }
      ]
    },
    {
      "cell_type": "markdown",
      "source": [
        "Step 3: Compare Models"
      ],
      "metadata": {
        "id": "Dwe_pSnIzU4C"
      }
    },
    {
      "cell_type": "code",
      "source": [
        "# Compare models\n",
        "best_model = compare_models()"
      ],
      "metadata": {
        "colab": {
          "base_uri": "https://localhost:8080/",
          "height": 0
        },
        "id": "jdzIr361zSVS",
        "outputId": "00a11567-c944-4c31-8d73-78e4521dd87e"
      },
      "execution_count": 7,
      "outputs": [
        {
          "output_type": "stream",
          "name": "stderr",
          "text": [
            "                                                           "
          ]
        },
        {
          "output_type": "stream",
          "name": "stdout",
          "text": [
            "                                    Model  Accuracy     AUC  Recall   Prec.  \\\n",
            "xgboost         Extreme Gradient Boosting    0.7346  0.7659  0.9147  0.7391   \n",
            "lightgbm  Light Gradient Boosting Machine    0.7134  0.7233  0.9400  0.7118   \n",
            "dt               Decision Tree Classifier    0.7089  0.6922  0.8048  0.7611   \n",
            "rf               Random Forest Classifier    0.7017  0.7252  0.8464  0.7350   \n",
            "et                 Extra Trees Classifier    0.6801  0.7216  0.7982  0.7333   \n",
            "gbc          Gradient Boosting Classifier    0.6769  0.6387  0.9789  0.6728   \n",
            "ada                  Ada Boost Classifier    0.6610  0.5800  0.9824  0.6610   \n",
            "lr                    Logistic Regression    0.6503  0.5569  0.9967  0.6508   \n",
            "ridge                    Ridge Classifier    0.6501  0.5568  0.9976  0.6506   \n",
            "dummy                    Dummy Classifier    0.6500  0.5000  1.0000  0.6500   \n",
            "lda          Linear Discriminant Analysis    0.6499  0.5568  0.9960  0.6507   \n",
            "knn                K Neighbors Classifier    0.6470  0.6120  0.8310  0.6897   \n",
            "svm                   SVM - Linear Kernel    0.6401  0.5148  0.9653  0.6504   \n",
            "nb                            Naive Bayes    0.6296  0.5557  0.8635  0.6658   \n",
            "qda       Quadratic Discriminant Analysis    0.5307  0.5269  0.5587  0.6656   \n",
            "\n",
            "              F1   Kappa     MCC  TT (Sec)  \n",
            "xgboost   0.8175  0.3502  0.3785     0.353  \n",
            "lightgbm  0.8100  0.2696  0.3192     1.988  \n",
            "dt        0.7822  0.3439  0.3454     0.197  \n",
            "rf        0.7867  0.2988  0.3073     0.866  \n",
            "et        0.7643  0.2694  0.2720     1.153  \n",
            "gbc       0.7975  0.1177  0.1995     0.697  \n",
            "ada       0.7902  0.0587  0.1235     0.721  \n",
            "lr        0.7875  0.0047  0.0303     1.094  \n",
            "ridge     0.7875  0.0032  0.0277     0.431  \n",
            "dummy     0.7879  0.0000  0.0000     0.172  \n",
            "lda       0.7871  0.0039  0.0250     0.246  \n",
            "knn       0.7537  0.1493  0.1578     0.254  \n",
            "svm       0.7769  0.0021  0.0026     0.250  \n",
            "nb        0.7518  0.0672  0.0773     0.180  \n",
            "qda       0.6020  0.0354  0.0363     0.207  \n"
          ]
        },
        {
          "output_type": "stream",
          "name": "stderr",
          "text": [
            "\r"
          ]
        }
      ]
    },
    {
      "cell_type": "markdown",
      "source": [
        "Step 4: Finalize and Evaluate the Model"
      ],
      "metadata": {
        "id": "LmriDVHGzdy6"
      }
    },
    {
      "cell_type": "code",
      "source": [
        "# Finalize the model\n",
        "final_best = finalize_model(best_model)\n",
        "\n",
        "# Evaluate the model\n",
        "evaluate_model(final_best)"
      ],
      "metadata": {
        "colab": {
          "base_uri": "https://localhost:8080/",
          "height": 221,
          "referenced_widgets": [
            "db995b0d34fe405fbfda633b58a70197",
            "ba7270c1ffbd40e382ec6407104fe591",
            "8d75999c73df421fbab702c976f8bc97",
            "c788c4504d3346cba30a4f26c67f7b6c",
            "3780e63ce02142acad0a283bd9e5a333",
            "c84eef9d3e5c43479428878f54ed8e0b",
            "68692fb9145749f2a1178d7bfaad6f9a"
          ]
        },
        "id": "BHK0L9MZzYiP",
        "outputId": "ae7237e8-ebee-4345-bbc8-40e788e17d55"
      },
      "execution_count": 8,
      "outputs": [
        {
          "output_type": "display_data",
          "data": {
            "text/plain": [
              "interactive(children=(ToggleButtons(description='Plot Type:', icons=('',), options=(('Pipeline Plot', 'pipelin…"
            ],
            "application/vnd.jupyter.widget-view+json": {
              "version_major": 2,
              "version_minor": 0,
              "model_id": "db995b0d34fe405fbfda633b58a70197"
            }
          },
          "metadata": {
            "application/vnd.jupyter.widget-view+json": {
              "colab": {
                "custom_widget_manager": {
                  "url": "https://ssl.gstatic.com/colaboratory-static/widgets/colab-cdn-widget-manager/2b70e893a8ba7c0f/manager.min.js"
                }
              }
            }
          }
        }
      ]
    },
    {
      "cell_type": "markdown",
      "source": [
        "Step 5: Save and Use the Model"
      ],
      "metadata": {
        "id": "ZBVC2T_yzkpU"
      }
    },
    {
      "cell_type": "code",
      "source": [
        "# Save the model\n",
        "save_model(final_best, 'ad_click_prediction_model')"
      ],
      "metadata": {
        "colab": {
          "base_uri": "https://localhost:8080/",
          "height": 0
        },
        "id": "enAlzELjzhbC",
        "outputId": "f01f6910-57a8-4f0f-f767-7e30c693d30a"
      },
      "execution_count": 9,
      "outputs": [
        {
          "output_type": "stream",
          "name": "stdout",
          "text": [
            "Transformation Pipeline and Model Successfully Saved\n"
          ]
        },
        {
          "output_type": "execute_result",
          "data": {
            "text/plain": [
              "(Pipeline(memory=Memory(location=None),\n",
              "          steps=[('numerical_imputer',\n",
              "                  TransformerWrapper(exclude=None, include=['age'],\n",
              "                                     transformer=SimpleImputer(add_indicator=False,\n",
              "                                                               copy=True,\n",
              "                                                               fill_value=None,\n",
              "                                                               keep_empty_features=False,\n",
              "                                                               missing_values=nan,\n",
              "                                                               strategy='mean'))),\n",
              "                 ('categorical_imputer',\n",
              "                  TransformerWrapper(exclude=None,\n",
              "                                     include=['gender', 'device_type',\n",
              "                                              'ad_position'...\n",
              "                                importance_type=None,\n",
              "                                interaction_constraints=None, learning_rate=None,\n",
              "                                max_bin=None, max_cat_threshold=None,\n",
              "                                max_cat_to_onehot=None, max_delta_step=None,\n",
              "                                max_depth=None, max_leaves=None,\n",
              "                                min_child_weight=None, missing=nan,\n",
              "                                monotone_constraints=None, multi_strategy=None,\n",
              "                                n_estimators=None, n_jobs=-1,\n",
              "                                num_parallel_tree=None,\n",
              "                                objective='binary:logistic', ...))],\n",
              "          verbose=False),\n",
              " 'ad_click_prediction_model.pkl')"
            ]
          },
          "metadata": {},
          "execution_count": 9
        }
      ]
    },
    {
      "cell_type": "code",
      "source": [],
      "metadata": {
        "id": "TeWcN-ETzoSG"
      },
      "execution_count": null,
      "outputs": []
    }
  ]
}